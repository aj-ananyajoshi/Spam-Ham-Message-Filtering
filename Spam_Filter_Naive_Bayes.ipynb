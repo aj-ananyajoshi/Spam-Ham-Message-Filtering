{
 "metadata": {
  "language_info": {
   "codemirror_mode": {
    "name": "ipython",
    "version": 3
   },
   "file_extension": ".py",
   "mimetype": "text/x-python",
   "name": "python",
   "nbconvert_exporter": "python",
   "pygments_lexer": "ipython3",
   "version": "3.9.4"
  },
  "orig_nbformat": 2,
  "kernelspec": {
   "name": "python394jvsc74a57bd0322e5b4af970d614be014a88b1853ca1fd99b2f4bc97f4da6e5824f5dbf2a6b7",
   "display_name": "Python 3.9.4 64-bit"
  },
  "metadata": {
   "interpreter": {
    "hash": "322e5b4af970d614be014a88b1853ca1fd99b2f4bc97f4da6e5824f5dbf2a6b7"
   }
  }
 },
 "nbformat": 4,
 "nbformat_minor": 2,
 "cells": [
  {
   "source": [
    "# Project - Building a Spam Filter with Naive Bayes"
   ],
   "cell_type": "markdown",
   "metadata": {}
  },
  {
   "source": [
    "To classify messages as spam or non-spam, we saw in the previous mission that the computer:\n",
    "\n",
    "1. Learns how humans classify messages.\n",
    "2. Uses that human knowledge to estimate probabilities for new messages — probabilities for spam and non-spam.\n",
    "3. Classifies a new message based on these probability values — if the probability for spam is greater, then it classifies the message as spam. Otherwise, it classifies it as non-spam (if the two probability values are equal, then we may need a human to classify the message).\n",
    "\n",
    "So our first task is to \"teach\" the computer how to classify messages. To do that, we'll use the multinomial Naive Bayes algorithm along with a dataset of 5,572 SMS messages that are already classified by humans."
   ],
   "cell_type": "markdown",
   "metadata": {}
  },
  {
   "cell_type": "code",
   "execution_count": 27,
   "metadata": {},
   "outputs": [],
   "source": [
    "import pandas as pd\n",
    "df = pd.read_csv(\"E:\\\\DataQuest\\\\Projects\\\\Naive Bayes\\\\SMS-Spam Filter\\\\SMS-Spam-Filter-main\\\\SMSSpamCollection\",sep='\\t',header=None,names = ['Label','SMS'])"
   ]
  },
  {
   "cell_type": "code",
   "execution_count": 28,
   "metadata": {},
   "outputs": [
    {
     "output_type": "execute_result",
     "data": {
      "text/plain": [
       "  Label                                                SMS\n",
       "0   ham  Go until jurong point, crazy.. Available only ...\n",
       "1   ham                      Ok lar... Joking wif u oni...\n",
       "2  spam  Free entry in 2 a wkly comp to win FA Cup fina...\n",
       "3   ham  U dun say so early hor... U c already then say...\n",
       "4   ham  Nah I don't think he goes to usf, he lives aro..."
      ],
      "text/html": "<div>\n<style scoped>\n    .dataframe tbody tr th:only-of-type {\n        vertical-align: middle;\n    }\n\n    .dataframe tbody tr th {\n        vertical-align: top;\n    }\n\n    .dataframe thead th {\n        text-align: right;\n    }\n</style>\n<table border=\"1\" class=\"dataframe\">\n  <thead>\n    <tr style=\"text-align: right;\">\n      <th></th>\n      <th>Label</th>\n      <th>SMS</th>\n    </tr>\n  </thead>\n  <tbody>\n    <tr>\n      <th>0</th>\n      <td>ham</td>\n      <td>Go until jurong point, crazy.. Available only ...</td>\n    </tr>\n    <tr>\n      <th>1</th>\n      <td>ham</td>\n      <td>Ok lar... Joking wif u oni...</td>\n    </tr>\n    <tr>\n      <th>2</th>\n      <td>spam</td>\n      <td>Free entry in 2 a wkly comp to win FA Cup fina...</td>\n    </tr>\n    <tr>\n      <th>3</th>\n      <td>ham</td>\n      <td>U dun say so early hor... U c already then say...</td>\n    </tr>\n    <tr>\n      <th>4</th>\n      <td>ham</td>\n      <td>Nah I don't think he goes to usf, he lives aro...</td>\n    </tr>\n  </tbody>\n</table>\n</div>"
     },
     "metadata": {},
     "execution_count": 28
    }
   ],
   "source": [
    "df.head()"
   ]
  },
  {
   "cell_type": "code",
   "execution_count": 29,
   "metadata": {},
   "outputs": [
    {
     "output_type": "execute_result",
     "data": {
      "text/plain": [
       "ham     86.593683\n",
       "spam    13.406317\n",
       "Name: Label, dtype: float64"
      ]
     },
     "metadata": {},
     "execution_count": 29
    }
   ],
   "source": [
    "df['Label'].value_counts(normalize=True)*100"
   ]
  },
  {
   "source": [
    "So, approximately 87% of messages are not spam (is ham) while about 13% of messages are spam based on the classification done by humans in the provided dataset."
   ],
   "cell_type": "markdown",
   "metadata": {}
  },
  {
   "source": [
    "## Training and Test set"
   ],
   "cell_type": "markdown",
   "metadata": {}
  },
  {
   "source": [
    "However, before creating it, it's very helpful to first think of a way of testing how well it works. When creating software (a spam filter is software), a good rule of thumb is that designing the test comes before creating the software. If we write the software first, then it's tempting to come up with a biased test just to make sure the software passes it.\n",
    "\n",
    "Once our spam filter is done, we'll need to test how good it is with classifying new messages. To test the spam filter, we're first going to split our dataset into two categories:\n",
    "\n",
    "1. A training set, which we'll use to \"train\" the computer how to classify messages.\n",
    "2. A test set, which we'll use to test how good the spam filter is with classifying new messages.\n",
    "\n",
    "-----------------------------------------------------------------------------------------------\n",
    "\n",
    "We're going to keep 80% of our dataset for training, and 20% for testing (we want to train the algorithm on as much data as possible, but we also want to have enough test data). The dataset has 5,572 messages, which means that:\n",
    "\n",
    "1. The training set will have 4,458 messages (about 80% of the dataset).\n",
    "2. The test set will have 1,114 messages (about 20% of the dataset).\n",
    "\n"
   ],
   "cell_type": "markdown",
   "metadata": {}
  },
  {
   "cell_type": "code",
   "execution_count": 30,
   "metadata": {},
   "outputs": [
    {
     "output_type": "stream",
     "name": "stdout",
     "text": [
      "(4458, 2)\n(1114, 2)\n"
     ]
    }
   ],
   "source": [
    "randomized_data = df.sample(frac=1,random_state=1)\n",
    "\n",
    "# getting index for split\n",
    "training_tst_index = round(len(randomized_data)*0.8)\n",
    "training_tst_index # 4458\n",
    "\n",
    "#splliting of data\n",
    "train = randomized_data[:training_tst_index].reset_index(drop=True)\n",
    "train.head()\n",
    "test = randomized_data[training_tst_index:].reset_index(drop=True)\n",
    "test.head()\n",
    "\n",
    "print(train.shape)\n",
    "print(test.shape)"
   ]
  },
  {
   "cell_type": "code",
   "execution_count": 31,
   "metadata": {},
   "outputs": [
    {
     "output_type": "execute_result",
     "data": {
      "text/plain": [
       "ham     86.54105\n",
       "spam    13.45895\n",
       "Name: Label, dtype: float64"
      ]
     },
     "metadata": {},
     "execution_count": 31
    }
   ],
   "source": [
    "train['Label'].value_counts(normalize=True)*100"
   ]
  },
  {
   "cell_type": "code",
   "execution_count": 32,
   "metadata": {},
   "outputs": [
    {
     "output_type": "execute_result",
     "data": {
      "text/plain": [
       "ham     86.804309\n",
       "spam    13.195691\n",
       "Name: Label, dtype: float64"
      ]
     },
     "metadata": {},
     "execution_count": 32
    }
   ],
   "source": [
    "test['Label'].value_counts(normalize=True)*100"
   ]
  },
  {
   "source": [
    "# Letter Case and Punctuation"
   ],
   "cell_type": "markdown",
   "metadata": {}
  },
  {
   "source": [
    "## performing bit data cleaning initially"
   ],
   "cell_type": "markdown",
   "metadata": {}
  },
  {
   "cell_type": "code",
   "execution_count": 33,
   "metadata": {},
   "outputs": [
    {
     "output_type": "execute_result",
     "data": {
      "text/plain": [
       "  Label                                                SMS\n",
       "0   ham                       Yep, by the pretty sculpture\n",
       "1   ham      Yes, princess. Are you going to make me moan?\n",
       "2   ham                         Welp apparently he retired\n",
       "3   ham                                            Havent.\n",
       "4   ham  I forgot 2 ask ü all smth.. There's a card on ..."
      ],
      "text/html": "<div>\n<style scoped>\n    .dataframe tbody tr th:only-of-type {\n        vertical-align: middle;\n    }\n\n    .dataframe tbody tr th {\n        vertical-align: top;\n    }\n\n    .dataframe thead th {\n        text-align: right;\n    }\n</style>\n<table border=\"1\" class=\"dataframe\">\n  <thead>\n    <tr style=\"text-align: right;\">\n      <th></th>\n      <th>Label</th>\n      <th>SMS</th>\n    </tr>\n  </thead>\n  <tbody>\n    <tr>\n      <th>0</th>\n      <td>ham</td>\n      <td>Yep, by the pretty sculpture</td>\n    </tr>\n    <tr>\n      <th>1</th>\n      <td>ham</td>\n      <td>Yes, princess. Are you going to make me moan?</td>\n    </tr>\n    <tr>\n      <th>2</th>\n      <td>ham</td>\n      <td>Welp apparently he retired</td>\n    </tr>\n    <tr>\n      <th>3</th>\n      <td>ham</td>\n      <td>Havent.</td>\n    </tr>\n    <tr>\n      <th>4</th>\n      <td>ham</td>\n      <td>I forgot 2 ask ü all smth.. There's a card on ...</td>\n    </tr>\n  </tbody>\n</table>\n</div>"
     },
     "metadata": {},
     "execution_count": 33
    }
   ],
   "source": [
    "train.head()"
   ]
  },
  {
   "cell_type": "code",
   "execution_count": 34,
   "metadata": {},
   "outputs": [
    {
     "output_type": "stream",
     "name": "stderr",
     "text": [
      "<ipython-input-34-f318e0b5b31b>:2: FutureWarning: The default value of regex will change from True to False in a future version.\n  train['SMS'] = train['SMS'].str.replace('\\W',' ')\n"
     ]
    }
   ],
   "source": [
    "import re\n",
    "train['SMS'] = train['SMS'].str.replace('\\W',' ')\n",
    "train['SMS'] = train['SMS'].str.lower()"
   ]
  },
  {
   "cell_type": "code",
   "execution_count": 35,
   "metadata": {},
   "outputs": [
    {
     "output_type": "stream",
     "name": "stdout",
     "text": [
      "ham     0.86541\nspam    0.13459\nName: Label, dtype: float64\n"
     ]
    },
    {
     "output_type": "execute_result",
     "data": {
      "text/plain": [
       "  Label                                                SMS\n",
       "0   ham                       yep  by the pretty sculpture\n",
       "1   ham      yes  princess  are you going to make me moan \n",
       "2   ham                         welp apparently he retired\n",
       "3   ham                                            havent \n",
       "4   ham  i forgot 2 ask ü all smth   there s a card on ..."
      ],
      "text/html": "<div>\n<style scoped>\n    .dataframe tbody tr th:only-of-type {\n        vertical-align: middle;\n    }\n\n    .dataframe tbody tr th {\n        vertical-align: top;\n    }\n\n    .dataframe thead th {\n        text-align: right;\n    }\n</style>\n<table border=\"1\" class=\"dataframe\">\n  <thead>\n    <tr style=\"text-align: right;\">\n      <th></th>\n      <th>Label</th>\n      <th>SMS</th>\n    </tr>\n  </thead>\n  <tbody>\n    <tr>\n      <th>0</th>\n      <td>ham</td>\n      <td>yep  by the pretty sculpture</td>\n    </tr>\n    <tr>\n      <th>1</th>\n      <td>ham</td>\n      <td>yes  princess  are you going to make me moan</td>\n    </tr>\n    <tr>\n      <th>2</th>\n      <td>ham</td>\n      <td>welp apparently he retired</td>\n    </tr>\n    <tr>\n      <th>3</th>\n      <td>ham</td>\n      <td>havent</td>\n    </tr>\n    <tr>\n      <th>4</th>\n      <td>ham</td>\n      <td>i forgot 2 ask ü all smth   there s a card on ...</td>\n    </tr>\n  </tbody>\n</table>\n</div>"
     },
     "metadata": {},
     "execution_count": 35
    }
   ],
   "source": [
    "print(train['Label'].value_counts(normalize=True))\n",
    "train.head()"
   ]
  },
  {
   "source": [
    "# Creating a Vocabulary"
   ],
   "cell_type": "markdown",
   "metadata": {}
  },
  {
   "cell_type": "code",
   "execution_count": 36,
   "metadata": {
    "tags": []
   },
   "outputs": [
    {
     "output_type": "execute_result",
     "data": {
      "text/plain": [
       "7783"
      ]
     },
     "metadata": {},
     "execution_count": 36
    }
   ],
   "source": [
    "train['SMS'] = train['SMS'].str.split()\n",
    "#print(train['SMS'])\n",
    "vocabulary = []\n",
    "for msg in train['SMS']:\n",
    "    for word in msg:\n",
    "        vocabulary.append(word)\n",
    "\n",
    "vocabulary = list(set(vocabulary)) # list made into set using set function to remove duplicate vocabs then converted back to list using list function\n",
    "len(vocabulary)"
   ]
  },
  {
   "source": [
    "# The Final Training Set"
   ],
   "cell_type": "markdown",
   "metadata": {}
  },
  {
   "source": [
    "To create the dictionary we need for our training set, we can use the code below, where:\n",
    "\n",
    "1.) We start by initializing a dictionary named word_counts_per_sms, where each key is a unique word (a string) from the vocabulary, and each value is a list of the length of training set, where each element in the list is a 0.\n",
    "1.1) The code [0] * 5 outputs [0, 0, 0, 0, 0]. So the code [0] * len(training_set['SMS']) outputs a list of the length of training_set['SMS'], where each element in the list will be a 0.\n",
    "\n",
    "2.) We loop over training_set['SMS'] using at the same time the enumerate() function to get both the index and the SMS message (index and sms).\n",
    "2.1.) Using a nested loop, we loop over sms (where sms is a list of strings, where each string represents a word in a message).\n",
    "            We incremenent word_counts_per_sms[word][index] by 1.\n"
   ],
   "cell_type": "markdown",
   "metadata": {}
  },
  {
   "source": [
    "words_count_per_msg = {unique_word : [0] * len(train['SMS']) for unique_word in vocabulary}\n",
    "\n",
    "for index, sms in enumerate(train['SMS']):\n",
    "    for word in sms:\n",
    "        words_count_per_msg[word][index] += 1\n",
    "print(len(words_count_per_msg))"
   ],
   "cell_type": "code",
   "metadata": {
    "tags": []
   },
   "execution_count": 37,
   "outputs": [
    {
     "output_type": "stream",
     "name": "stdout",
     "text": [
      "7783\n"
     ]
    }
   ]
  },
  {
   "source": [
    "new_df = pd.DataFrame(words_count_per_msg)\n",
    "print(new_df.shape)\n",
    "new_df.head()"
   ],
   "cell_type": "code",
   "metadata": {
    "tags": []
   },
   "execution_count": 38,
   "outputs": [
    {
     "output_type": "stream",
     "name": "stdout",
     "text": [
      "(4458, 7783)\n"
     ]
    },
    {
     "output_type": "execute_result",
     "data": {
      "text/plain": [
       "   kitty  queries  studyn  mobsi  sing  seat  potato  elvis  nitw  frying  \\\n",
       "0      0        0       0      0     0     0       0      0     0       0   \n",
       "1      0        0       0      0     0     0       0      0     0       0   \n",
       "2      0        0       0      0     0     0       0      0     0       0   \n",
       "3      0        0       0      0     0     0       0      0     0       0   \n",
       "4      0        0       0      0     0     0       0      0     0       0   \n",
       "\n",
       "   ...  boggy  dokey  100p  heltini  fakeye  lololo  outfor  smsservices  \\\n",
       "0  ...      0      0     0        0       0       0       0            0   \n",
       "1  ...      0      0     0        0       0       0       0            0   \n",
       "2  ...      0      0     0        0       0       0       0            0   \n",
       "3  ...      0      0     0        0       0       0       0            0   \n",
       "4  ...      0      0     0        0       0       0       0            0   \n",
       "\n",
       "   five  type  \n",
       "0     0     0  \n",
       "1     0     0  \n",
       "2     0     0  \n",
       "3     0     0  \n",
       "4     0     0  \n",
       "\n",
       "[5 rows x 7783 columns]"
      ],
      "text/html": "<div>\n<style scoped>\n    .dataframe tbody tr th:only-of-type {\n        vertical-align: middle;\n    }\n\n    .dataframe tbody tr th {\n        vertical-align: top;\n    }\n\n    .dataframe thead th {\n        text-align: right;\n    }\n</style>\n<table border=\"1\" class=\"dataframe\">\n  <thead>\n    <tr style=\"text-align: right;\">\n      <th></th>\n      <th>kitty</th>\n      <th>queries</th>\n      <th>studyn</th>\n      <th>mobsi</th>\n      <th>sing</th>\n      <th>seat</th>\n      <th>potato</th>\n      <th>elvis</th>\n      <th>nitw</th>\n      <th>frying</th>\n      <th>...</th>\n      <th>boggy</th>\n      <th>dokey</th>\n      <th>100p</th>\n      <th>heltini</th>\n      <th>fakeye</th>\n      <th>lololo</th>\n      <th>outfor</th>\n      <th>smsservices</th>\n      <th>five</th>\n      <th>type</th>\n    </tr>\n  </thead>\n  <tbody>\n    <tr>\n      <th>0</th>\n      <td>0</td>\n      <td>0</td>\n      <td>0</td>\n      <td>0</td>\n      <td>0</td>\n      <td>0</td>\n      <td>0</td>\n      <td>0</td>\n      <td>0</td>\n      <td>0</td>\n      <td>...</td>\n      <td>0</td>\n      <td>0</td>\n      <td>0</td>\n      <td>0</td>\n      <td>0</td>\n      <td>0</td>\n      <td>0</td>\n      <td>0</td>\n      <td>0</td>\n      <td>0</td>\n    </tr>\n    <tr>\n      <th>1</th>\n      <td>0</td>\n      <td>0</td>\n      <td>0</td>\n      <td>0</td>\n      <td>0</td>\n      <td>0</td>\n      <td>0</td>\n      <td>0</td>\n      <td>0</td>\n      <td>0</td>\n      <td>...</td>\n      <td>0</td>\n      <td>0</td>\n      <td>0</td>\n      <td>0</td>\n      <td>0</td>\n      <td>0</td>\n      <td>0</td>\n      <td>0</td>\n      <td>0</td>\n      <td>0</td>\n    </tr>\n    <tr>\n      <th>2</th>\n      <td>0</td>\n      <td>0</td>\n      <td>0</td>\n      <td>0</td>\n      <td>0</td>\n      <td>0</td>\n      <td>0</td>\n      <td>0</td>\n      <td>0</td>\n      <td>0</td>\n      <td>...</td>\n      <td>0</td>\n      <td>0</td>\n      <td>0</td>\n      <td>0</td>\n      <td>0</td>\n      <td>0</td>\n      <td>0</td>\n      <td>0</td>\n      <td>0</td>\n      <td>0</td>\n    </tr>\n    <tr>\n      <th>3</th>\n      <td>0</td>\n      <td>0</td>\n      <td>0</td>\n      <td>0</td>\n      <td>0</td>\n      <td>0</td>\n      <td>0</td>\n      <td>0</td>\n      <td>0</td>\n      <td>0</td>\n      <td>...</td>\n      <td>0</td>\n      <td>0</td>\n      <td>0</td>\n      <td>0</td>\n      <td>0</td>\n      <td>0</td>\n      <td>0</td>\n      <td>0</td>\n      <td>0</td>\n      <td>0</td>\n    </tr>\n    <tr>\n      <th>4</th>\n      <td>0</td>\n      <td>0</td>\n      <td>0</td>\n      <td>0</td>\n      <td>0</td>\n      <td>0</td>\n      <td>0</td>\n      <td>0</td>\n      <td>0</td>\n      <td>0</td>\n      <td>...</td>\n      <td>0</td>\n      <td>0</td>\n      <td>0</td>\n      <td>0</td>\n      <td>0</td>\n      <td>0</td>\n      <td>0</td>\n      <td>0</td>\n      <td>0</td>\n      <td>0</td>\n    </tr>\n  </tbody>\n</table>\n<p>5 rows × 7783 columns</p>\n</div>"
     },
     "metadata": {},
     "execution_count": 38
    }
   ]
  },
  {
   "cell_type": "code",
   "execution_count": 39,
   "metadata": {},
   "outputs": [
    {
     "output_type": "stream",
     "name": "stdout",
     "text": [
      "(4458, 7785)\n"
     ]
    }
   ],
   "source": [
    "# Concatenating the dataframes\n",
    "clean_train = pd.concat([train,new_df],axis=1)\n",
    "print(clean_train.shape)"
   ]
  },
  {
   "cell_type": "code",
   "execution_count": 40,
   "metadata": {},
   "outputs": [
    {
     "output_type": "execute_result",
     "data": {
      "text/plain": [
       "  Label                                                SMS  kitty  queries  \\\n",
       "0   ham                  [yep, by, the, pretty, sculpture]      0        0   \n",
       "1   ham  [yes, princess, are, you, going, to, make, me,...      0        0   \n",
       "2   ham                    [welp, apparently, he, retired]      0        0   \n",
       "3   ham                                           [havent]      0        0   \n",
       "4   ham  [i, forgot, 2, ask, ü, all, smth, there, s, a,...      0        0   \n",
       "\n",
       "   studyn  mobsi  sing  seat  potato  elvis  ...  boggy  dokey  100p  heltini  \\\n",
       "0       0      0     0     0       0      0  ...      0      0     0        0   \n",
       "1       0      0     0     0       0      0  ...      0      0     0        0   \n",
       "2       0      0     0     0       0      0  ...      0      0     0        0   \n",
       "3       0      0     0     0       0      0  ...      0      0     0        0   \n",
       "4       0      0     0     0       0      0  ...      0      0     0        0   \n",
       "\n",
       "   fakeye  lololo  outfor  smsservices  five  type  \n",
       "0       0       0       0            0     0     0  \n",
       "1       0       0       0            0     0     0  \n",
       "2       0       0       0            0     0     0  \n",
       "3       0       0       0            0     0     0  \n",
       "4       0       0       0            0     0     0  \n",
       "\n",
       "[5 rows x 7785 columns]"
      ],
      "text/html": "<div>\n<style scoped>\n    .dataframe tbody tr th:only-of-type {\n        vertical-align: middle;\n    }\n\n    .dataframe tbody tr th {\n        vertical-align: top;\n    }\n\n    .dataframe thead th {\n        text-align: right;\n    }\n</style>\n<table border=\"1\" class=\"dataframe\">\n  <thead>\n    <tr style=\"text-align: right;\">\n      <th></th>\n      <th>Label</th>\n      <th>SMS</th>\n      <th>kitty</th>\n      <th>queries</th>\n      <th>studyn</th>\n      <th>mobsi</th>\n      <th>sing</th>\n      <th>seat</th>\n      <th>potato</th>\n      <th>elvis</th>\n      <th>...</th>\n      <th>boggy</th>\n      <th>dokey</th>\n      <th>100p</th>\n      <th>heltini</th>\n      <th>fakeye</th>\n      <th>lololo</th>\n      <th>outfor</th>\n      <th>smsservices</th>\n      <th>five</th>\n      <th>type</th>\n    </tr>\n  </thead>\n  <tbody>\n    <tr>\n      <th>0</th>\n      <td>ham</td>\n      <td>[yep, by, the, pretty, sculpture]</td>\n      <td>0</td>\n      <td>0</td>\n      <td>0</td>\n      <td>0</td>\n      <td>0</td>\n      <td>0</td>\n      <td>0</td>\n      <td>0</td>\n      <td>...</td>\n      <td>0</td>\n      <td>0</td>\n      <td>0</td>\n      <td>0</td>\n      <td>0</td>\n      <td>0</td>\n      <td>0</td>\n      <td>0</td>\n      <td>0</td>\n      <td>0</td>\n    </tr>\n    <tr>\n      <th>1</th>\n      <td>ham</td>\n      <td>[yes, princess, are, you, going, to, make, me,...</td>\n      <td>0</td>\n      <td>0</td>\n      <td>0</td>\n      <td>0</td>\n      <td>0</td>\n      <td>0</td>\n      <td>0</td>\n      <td>0</td>\n      <td>...</td>\n      <td>0</td>\n      <td>0</td>\n      <td>0</td>\n      <td>0</td>\n      <td>0</td>\n      <td>0</td>\n      <td>0</td>\n      <td>0</td>\n      <td>0</td>\n      <td>0</td>\n    </tr>\n    <tr>\n      <th>2</th>\n      <td>ham</td>\n      <td>[welp, apparently, he, retired]</td>\n      <td>0</td>\n      <td>0</td>\n      <td>0</td>\n      <td>0</td>\n      <td>0</td>\n      <td>0</td>\n      <td>0</td>\n      <td>0</td>\n      <td>...</td>\n      <td>0</td>\n      <td>0</td>\n      <td>0</td>\n      <td>0</td>\n      <td>0</td>\n      <td>0</td>\n      <td>0</td>\n      <td>0</td>\n      <td>0</td>\n      <td>0</td>\n    </tr>\n    <tr>\n      <th>3</th>\n      <td>ham</td>\n      <td>[havent]</td>\n      <td>0</td>\n      <td>0</td>\n      <td>0</td>\n      <td>0</td>\n      <td>0</td>\n      <td>0</td>\n      <td>0</td>\n      <td>0</td>\n      <td>...</td>\n      <td>0</td>\n      <td>0</td>\n      <td>0</td>\n      <td>0</td>\n      <td>0</td>\n      <td>0</td>\n      <td>0</td>\n      <td>0</td>\n      <td>0</td>\n      <td>0</td>\n    </tr>\n    <tr>\n      <th>4</th>\n      <td>ham</td>\n      <td>[i, forgot, 2, ask, ü, all, smth, there, s, a,...</td>\n      <td>0</td>\n      <td>0</td>\n      <td>0</td>\n      <td>0</td>\n      <td>0</td>\n      <td>0</td>\n      <td>0</td>\n      <td>0</td>\n      <td>...</td>\n      <td>0</td>\n      <td>0</td>\n      <td>0</td>\n      <td>0</td>\n      <td>0</td>\n      <td>0</td>\n      <td>0</td>\n      <td>0</td>\n      <td>0</td>\n      <td>0</td>\n    </tr>\n  </tbody>\n</table>\n<p>5 rows × 7785 columns</p>\n</div>"
     },
     "metadata": {},
     "execution_count": 40
    }
   ],
   "source": [
    "clean_train.head()"
   ]
  },
  {
   "source": [
    "# Calculating Constants First"
   ],
   "cell_type": "markdown",
   "metadata": {}
  },
  {
   "source": [
    "## P(Spam|w1,w2,...,wn) ∝ P(Spam) ⋅ n∏i=1P(wi|Spam)\n",
    "## P(Ham|w1,w2,...,wn) ∝ P(Ham) ⋅ n∏i=1P(wi|Ham)"
   ],
   "cell_type": "markdown",
   "metadata": {}
  },
  {
   "cell_type": "code",
   "execution_count": 41,
   "metadata": {},
   "outputs": [
    {
     "output_type": "stream",
     "name": "stdout",
     "text": [
      "ham     3858\nspam     600\nName: Label, dtype: int64\n"
     ]
    },
    {
     "output_type": "execute_result",
     "data": {
      "text/plain": [
       "  Label                                                SMS  kitty  queries  \\\n",
       "0   ham                  [yep, by, the, pretty, sculpture]      0        0   \n",
       "1   ham  [yes, princess, are, you, going, to, make, me,...      0        0   \n",
       "2   ham                    [welp, apparently, he, retired]      0        0   \n",
       "3   ham                                           [havent]      0        0   \n",
       "4   ham  [i, forgot, 2, ask, ü, all, smth, there, s, a,...      0        0   \n",
       "\n",
       "   studyn  mobsi  sing  seat  potato  elvis  ...  boggy  dokey  100p  heltini  \\\n",
       "0       0      0     0     0       0      0  ...      0      0     0        0   \n",
       "1       0      0     0     0       0      0  ...      0      0     0        0   \n",
       "2       0      0     0     0       0      0  ...      0      0     0        0   \n",
       "3       0      0     0     0       0      0  ...      0      0     0        0   \n",
       "4       0      0     0     0       0      0  ...      0      0     0        0   \n",
       "\n",
       "   fakeye  lololo  outfor  smsservices  five  type  \n",
       "0       0       0       0            0     0     0  \n",
       "1       0       0       0            0     0     0  \n",
       "2       0       0       0            0     0     0  \n",
       "3       0       0       0            0     0     0  \n",
       "4       0       0       0            0     0     0  \n",
       "\n",
       "[5 rows x 7785 columns]"
      ],
      "text/html": "<div>\n<style scoped>\n    .dataframe tbody tr th:only-of-type {\n        vertical-align: middle;\n    }\n\n    .dataframe tbody tr th {\n        vertical-align: top;\n    }\n\n    .dataframe thead th {\n        text-align: right;\n    }\n</style>\n<table border=\"1\" class=\"dataframe\">\n  <thead>\n    <tr style=\"text-align: right;\">\n      <th></th>\n      <th>Label</th>\n      <th>SMS</th>\n      <th>kitty</th>\n      <th>queries</th>\n      <th>studyn</th>\n      <th>mobsi</th>\n      <th>sing</th>\n      <th>seat</th>\n      <th>potato</th>\n      <th>elvis</th>\n      <th>...</th>\n      <th>boggy</th>\n      <th>dokey</th>\n      <th>100p</th>\n      <th>heltini</th>\n      <th>fakeye</th>\n      <th>lololo</th>\n      <th>outfor</th>\n      <th>smsservices</th>\n      <th>five</th>\n      <th>type</th>\n    </tr>\n  </thead>\n  <tbody>\n    <tr>\n      <th>0</th>\n      <td>ham</td>\n      <td>[yep, by, the, pretty, sculpture]</td>\n      <td>0</td>\n      <td>0</td>\n      <td>0</td>\n      <td>0</td>\n      <td>0</td>\n      <td>0</td>\n      <td>0</td>\n      <td>0</td>\n      <td>...</td>\n      <td>0</td>\n      <td>0</td>\n      <td>0</td>\n      <td>0</td>\n      <td>0</td>\n      <td>0</td>\n      <td>0</td>\n      <td>0</td>\n      <td>0</td>\n      <td>0</td>\n    </tr>\n    <tr>\n      <th>1</th>\n      <td>ham</td>\n      <td>[yes, princess, are, you, going, to, make, me,...</td>\n      <td>0</td>\n      <td>0</td>\n      <td>0</td>\n      <td>0</td>\n      <td>0</td>\n      <td>0</td>\n      <td>0</td>\n      <td>0</td>\n      <td>...</td>\n      <td>0</td>\n      <td>0</td>\n      <td>0</td>\n      <td>0</td>\n      <td>0</td>\n      <td>0</td>\n      <td>0</td>\n      <td>0</td>\n      <td>0</td>\n      <td>0</td>\n    </tr>\n    <tr>\n      <th>2</th>\n      <td>ham</td>\n      <td>[welp, apparently, he, retired]</td>\n      <td>0</td>\n      <td>0</td>\n      <td>0</td>\n      <td>0</td>\n      <td>0</td>\n      <td>0</td>\n      <td>0</td>\n      <td>0</td>\n      <td>...</td>\n      <td>0</td>\n      <td>0</td>\n      <td>0</td>\n      <td>0</td>\n      <td>0</td>\n      <td>0</td>\n      <td>0</td>\n      <td>0</td>\n      <td>0</td>\n      <td>0</td>\n    </tr>\n    <tr>\n      <th>3</th>\n      <td>ham</td>\n      <td>[havent]</td>\n      <td>0</td>\n      <td>0</td>\n      <td>0</td>\n      <td>0</td>\n      <td>0</td>\n      <td>0</td>\n      <td>0</td>\n      <td>0</td>\n      <td>...</td>\n      <td>0</td>\n      <td>0</td>\n      <td>0</td>\n      <td>0</td>\n      <td>0</td>\n      <td>0</td>\n      <td>0</td>\n      <td>0</td>\n      <td>0</td>\n      <td>0</td>\n    </tr>\n    <tr>\n      <th>4</th>\n      <td>ham</td>\n      <td>[i, forgot, 2, ask, ü, all, smth, there, s, a,...</td>\n      <td>0</td>\n      <td>0</td>\n      <td>0</td>\n      <td>0</td>\n      <td>0</td>\n      <td>0</td>\n      <td>0</td>\n      <td>0</td>\n      <td>...</td>\n      <td>0</td>\n      <td>0</td>\n      <td>0</td>\n      <td>0</td>\n      <td>0</td>\n      <td>0</td>\n      <td>0</td>\n      <td>0</td>\n      <td>0</td>\n      <td>0</td>\n    </tr>\n  </tbody>\n</table>\n<p>5 rows × 7785 columns</p>\n</div>"
     },
     "metadata": {},
     "execution_count": 41
    }
   ],
   "source": [
    "# Using Training Data only\n",
    "print(clean_train['Label'].value_counts())\n",
    "clean_train.head()"
   ]
  },
  {
   "cell_type": "code",
   "execution_count": 42,
   "metadata": {},
   "outputs": [
    {
     "output_type": "stream",
     "name": "stdout",
     "text": [
      "15190\nvocab :  7783\n"
     ]
    }
   ],
   "source": [
    "# seperating data based on labels\n",
    "ham_msg = clean_train[clean_train['Label']=='ham'] # 3858\n",
    "spam_msg = clean_train[clean_train['Label']=='spam'] # 600\n",
    "# print(clean_train.shape)\n",
    "# print(ham_msg.shape)\n",
    "# print(spam_msg.shape)\n",
    "# print('train : ',clean_train.shape)\n",
    "# print(len(clean_train)) # above line of code\n",
    "# print(train.shape)\n",
    "# Computing p_spam\n",
    "p_ham = ham_msg.shape[0]/clean_train.shape[0] # 0.8654104979811574\n",
    "p_spam = spam_msg.shape[0]/clean_train.shape[0] #0.13458950201884254\n",
    "\n",
    "# Computing N_ham\n",
    "n_per_msg_ham = ham_msg['SMS'].apply(len) # apply returns the series of applied function's output\n",
    "N_ham = n_per_msg_ham.sum()\n",
    "# print(N_ham)\n",
    "\n",
    "# Computing N_spam\n",
    "n_per_msg_spam = spam_msg['SMS'].apply(len)\n",
    "N_spam = n_per_msg_spam.sum()\n",
    "print(N_spam)\n",
    "\n",
    "# Computing N_vocab\n",
    "N_vocab = len(vocabulary)\n",
    "print(\"vocab : \",N_vocab)\n",
    "# Additive Smoothing parameter-α (Laplace-Smoothing)\n",
    "alpha = 1\n",
    "\n",
    "# print(p_spam)\n",
    "# print(p_ham)"
   ]
  },
  {
   "cell_type": "code",
   "execution_count": 43,
   "metadata": {},
   "outputs": [
    {
     "output_type": "execute_result",
     "data": {
      "text/plain": [
       "   Label                                                SMS  kitty  queries  \\\n",
       "16  spam  [freemsg, why, haven, t, you, replied, to, my,...      0        0   \n",
       "18  spam  [congrats, 2, mobile, 3g, videophones, r, your...      0        0   \n",
       "56  spam  [free, message, activate, your, 500, free, tex...      0        0   \n",
       "60  spam  [call, from, 08702490080, tells, u, 2, call, 0...      0        0   \n",
       "61  spam  [someone, has, conacted, our, dating, service,...      0        0   \n",
       "\n",
       "    studyn  mobsi  sing  seat  potato  elvis  ...  boggy  dokey  100p  \\\n",
       "16       0      0     0     0       0      0  ...      0      0     0   \n",
       "18       0      0     0     0       0      0  ...      0      0     0   \n",
       "56       0      0     0     0       0      0  ...      0      0     0   \n",
       "60       0      0     0     0       0      0  ...      0      0     0   \n",
       "61       0      0     0     0       0      0  ...      0      0     0   \n",
       "\n",
       "    heltini  fakeye  lololo  outfor  smsservices  five  type  \n",
       "16        0       0       0       0            0     0     0  \n",
       "18        0       0       0       0            0     0     0  \n",
       "56        0       0       0       0            0     0     0  \n",
       "60        0       0       0       0            0     0     0  \n",
       "61        0       0       0       0            0     0     0  \n",
       "\n",
       "[5 rows x 7785 columns]"
      ],
      "text/html": "<div>\n<style scoped>\n    .dataframe tbody tr th:only-of-type {\n        vertical-align: middle;\n    }\n\n    .dataframe tbody tr th {\n        vertical-align: top;\n    }\n\n    .dataframe thead th {\n        text-align: right;\n    }\n</style>\n<table border=\"1\" class=\"dataframe\">\n  <thead>\n    <tr style=\"text-align: right;\">\n      <th></th>\n      <th>Label</th>\n      <th>SMS</th>\n      <th>kitty</th>\n      <th>queries</th>\n      <th>studyn</th>\n      <th>mobsi</th>\n      <th>sing</th>\n      <th>seat</th>\n      <th>potato</th>\n      <th>elvis</th>\n      <th>...</th>\n      <th>boggy</th>\n      <th>dokey</th>\n      <th>100p</th>\n      <th>heltini</th>\n      <th>fakeye</th>\n      <th>lololo</th>\n      <th>outfor</th>\n      <th>smsservices</th>\n      <th>five</th>\n      <th>type</th>\n    </tr>\n  </thead>\n  <tbody>\n    <tr>\n      <th>16</th>\n      <td>spam</td>\n      <td>[freemsg, why, haven, t, you, replied, to, my,...</td>\n      <td>0</td>\n      <td>0</td>\n      <td>0</td>\n      <td>0</td>\n      <td>0</td>\n      <td>0</td>\n      <td>0</td>\n      <td>0</td>\n      <td>...</td>\n      <td>0</td>\n      <td>0</td>\n      <td>0</td>\n      <td>0</td>\n      <td>0</td>\n      <td>0</td>\n      <td>0</td>\n      <td>0</td>\n      <td>0</td>\n      <td>0</td>\n    </tr>\n    <tr>\n      <th>18</th>\n      <td>spam</td>\n      <td>[congrats, 2, mobile, 3g, videophones, r, your...</td>\n      <td>0</td>\n      <td>0</td>\n      <td>0</td>\n      <td>0</td>\n      <td>0</td>\n      <td>0</td>\n      <td>0</td>\n      <td>0</td>\n      <td>...</td>\n      <td>0</td>\n      <td>0</td>\n      <td>0</td>\n      <td>0</td>\n      <td>0</td>\n      <td>0</td>\n      <td>0</td>\n      <td>0</td>\n      <td>0</td>\n      <td>0</td>\n    </tr>\n    <tr>\n      <th>56</th>\n      <td>spam</td>\n      <td>[free, message, activate, your, 500, free, tex...</td>\n      <td>0</td>\n      <td>0</td>\n      <td>0</td>\n      <td>0</td>\n      <td>0</td>\n      <td>0</td>\n      <td>0</td>\n      <td>0</td>\n      <td>...</td>\n      <td>0</td>\n      <td>0</td>\n      <td>0</td>\n      <td>0</td>\n      <td>0</td>\n      <td>0</td>\n      <td>0</td>\n      <td>0</td>\n      <td>0</td>\n      <td>0</td>\n    </tr>\n    <tr>\n      <th>60</th>\n      <td>spam</td>\n      <td>[call, from, 08702490080, tells, u, 2, call, 0...</td>\n      <td>0</td>\n      <td>0</td>\n      <td>0</td>\n      <td>0</td>\n      <td>0</td>\n      <td>0</td>\n      <td>0</td>\n      <td>0</td>\n      <td>...</td>\n      <td>0</td>\n      <td>0</td>\n      <td>0</td>\n      <td>0</td>\n      <td>0</td>\n      <td>0</td>\n      <td>0</td>\n      <td>0</td>\n      <td>0</td>\n      <td>0</td>\n    </tr>\n    <tr>\n      <th>61</th>\n      <td>spam</td>\n      <td>[someone, has, conacted, our, dating, service,...</td>\n      <td>0</td>\n      <td>0</td>\n      <td>0</td>\n      <td>0</td>\n      <td>0</td>\n      <td>0</td>\n      <td>0</td>\n      <td>0</td>\n      <td>...</td>\n      <td>0</td>\n      <td>0</td>\n      <td>0</td>\n      <td>0</td>\n      <td>0</td>\n      <td>0</td>\n      <td>0</td>\n      <td>0</td>\n      <td>0</td>\n      <td>0</td>\n    </tr>\n  </tbody>\n</table>\n<p>5 rows × 7785 columns</p>\n</div>"
     },
     "metadata": {},
     "execution_count": 43
    }
   ],
   "source": [
    "spam_msg.head()"
   ]
  },
  {
   "source": [
    "# Calculating Parameters"
   ],
   "cell_type": "markdown",
   "metadata": {}
  },
  {
   "source": [
    "\n",
    "1. P(Spam) and P(Ham)\n",
    "2. NSpam, NHam, NVocabulary\n",
    "\n",
    "As we've already mentioned, all these terms will have constant values in our equations for every new message (regardless of the message or each individual word in the message).\n",
    "\n",
    "However, P(wi|Spam) and P(wi|Ham) will vary depending on the individual words. For instance, P(\"secret\"|Spam) will have a certain probability value, while P(\"cousin\"|Spam) or P(\"lovely\"|Spam) will most likely have other values.\n",
    "\n",
    "Although both P(wi|Spam) and P(wi|Ham) vary depending on the word, the probability for each individual word is constant for every new message.\n",
    "\n",
    "For instance, let's say we receive two new messages:\n",
    "\n",
    "    \"secret code\"\n",
    "    \"secret party 2night\"\n",
    "\n",
    "We'll need to calculate P(\"secret\"|Spam) for both these messages, and we can use the training set to get the values we need to find a result for the equation below:\n",
    "\n",
    "P(\"secret\"|Spam)=N\"secret\"|Spam+αNSpam+α⋅NVocabulary\n",
    "\n",
    "The steps we take to calculate P(\"secret\"|Spam) will be identical for both of our new messages above, or for any other new message that contains the word \"secret\". The key detail here is that calculating P(\"secret\"|Spam) only depends on the training set, and as long as we don't make changes to the training set, P(\"secret\"|Spam) stays constant. The same reasoning also applies to P(\"secret\"|Ham).\n",
    "\n",
    "This means that we can use our training set to calculate the probability for each word in our vocabulary. If our vocabulary contained only the words \"lost\", \"navigate\", and \"sea\", then we'd need to calculate six probabilities:\n",
    "\n",
    "    P(\"lost\"|Spam) and P(\"lost\"|Ham)\n",
    "    P(\"navigate\"|Spam) and P(\"navigate\"|Ham)\n",
    "    P(\"sea\"|Spam) and P(\"sea\"|Ham)\n",
    "\n",
    "We have 7,783 words in our vocabulary, which means we'll need to calculate a total of 15,566 probabilities. For each word, we need to calculate both P(wi|Spam) and P(wi|Ham).\n",
    "\n",
    "In more technical language, the probability values that P(wi|Spam) and P(wi|Ham) will take are called \"Parameters\".\n",
    "\n",
    "The fact that we calculate so many values before even beginning the classification of new messages makes the Naive Bayes algorithm very fast (especially compared to other algorithms). When a new message comes in, most of the needed computations are already done, which enables the algorithm to almost instantly classify the new message. \n",
    "\n",
    "Also, if these values are not calculated initially then there will be repeatation of calculations that will just slow/drag down the algorithm.\n",
    "\n",
    "Parameters to compute : \n",
    "\n",
    "\\begin{equation}\n",
    "P(w_i|Spam) = \\frac{N_{w_i|Spam} + \\alpha}{N_{Spam} + \\alpha \\cdot N_{Vocabulary}}\n",
    "\\end{equation}\n",
    "\n",
    "\\begin{equation}\n",
    "P(w_i|Ham) = \\frac{N_{w_i|Ham} + \\alpha}{N_{Ham} + \\alpha \\cdot N_{Vocabulary}}\n",
    "\\end{equation}"
   ],
   "cell_type": "markdown",
   "metadata": {}
  },
  {
   "cell_type": "code",
   "execution_count": 44,
   "metadata": {
    "tags": []
   },
   "outputs": [
    {
     "output_type": "stream",
     "name": "stdout",
     "text": [
      "ham_parameters len :  7783\nspam_parameters len :  7783\n"
     ]
    }
   ],
   "source": [
    "# ham_msg & spam_msg are 2 dataframes made in previous cell\n",
    "# inititalizing 2 dictionaries each for spam and ham words\n",
    "ham_parameters = {unique_words : [0] for unique_words in vocabulary}\n",
    "spam_parameters = {unique_words : [0] for unique_words in vocabulary}\n",
    "\n",
    "\n",
    "# Isolating spam and ham data in different dataframes\n",
    "# spam_data = clean_train[clean_train['Label']=='spam']\n",
    "# ham_data = clean_train[clean_train['Label']=='ham']\n",
    "# print()\n",
    "# iterating over vocabulary for spam\n",
    "for w in vocabulary:\n",
    "    n_w_given_spam = spam_msg[w].sum() # spam_msg in previous cell\n",
    "    p_w_given_spam = (n_w_given_spam+alpha)/(N_spam + alpha*N_vocab) # N_vocab in previous cell\n",
    "    spam_parameters[w] = p_w_given_spam\n",
    "    \n",
    "\n",
    "    # Similarly,\n",
    "    n_w_given_ham = ham_msg[w].sum()\n",
    "    p_w_given_ham = (n_w_given_ham+alpha)/(N_ham + alpha*N_vocab)\n",
    "    ham_parameters[w] = p_w_given_ham\n",
    "\n",
    "print('ham_parameters len : ',len(ham_parameters))\n",
    "print('spam_parameters len : ',len(spam_parameters))\n"
   ]
  },
  {
   "cell_type": "code",
   "execution_count": 45,
   "metadata": {
    "tags": []
   },
   "outputs": [],
   "source": [
    "# print(spam_parameters)\n",
    "# print(spam_parameters['greatly'])# 0.00012848515996402416"
   ]
  },
  {
   "source": [
    "# Classifying A New Message"
   ],
   "cell_type": "markdown",
   "metadata": {}
  },
  {
   "source": [
    "Now that we've calculated all the constants and parameters we need, we can start creating the spam filter. The spam filter can be understood as a function that:\n",
    "\n",
    "1. Takes in as input a new message (w1, w2, ..., wn)\n",
    "2. Calculates P(Spam|w1, w2, ..., wn) and P(Ham|w1, w2, ..., wn)\n",
    "3. Compares the values of P(Spam|w1, w2, ..., wn) and P(Ham|w1, w2, ..., wn), and:\n",
    "\n",
    "        If P(Ham|w1, w2, ..., wn) > P(Spam|w1, w2, ..., wn), then the message is classified as ham.\n",
    "        If P(Ham|w1, w2, ..., wn) < P(Spam|w1, w2, ..., wn), then the message is classified as spam.\n",
    "        If P(Ham|w1, w2, ..., wn) = P(Spam|w1, w2, ..., wn), then the algorithm may request human help.\n"
   ],
   "cell_type": "markdown",
   "metadata": {}
  },
  {
   "cell_type": "code",
   "execution_count": 46,
   "metadata": {},
   "outputs": [],
   "source": [
    "import re\n",
    "def classify(message):\n",
    "    message = re.sub('\\W',' ',message)\n",
    "    message = message.lower()\n",
    "    message = message.split()\n",
    "\n",
    "    '''\n",
    "    Computing p_spam_given_msg & p_ham_given_msg both below\n",
    "    '''\n",
    "    p_spam_given_msg = p_spam\n",
    "    p_ham_given_msg = p_ham \n",
    "\n",
    "    for w in message:\n",
    "        if w in spam_parameters:\n",
    "            p_spam_given_msg *= spam_parameters[w]\n",
    "        if w in ham_parameters:\n",
    "            p_ham_given_msg *= ham_parameters[w]\n",
    "        #else:\n",
    "        #    continue\n",
    "    print('P(Spam|msg) = ',p_spam_given_msg)\n",
    "    print('P(Ham|msg) = ',p_ham_given_msg)\n",
    "    \n",
    "    if p_ham_given_msg > p_spam_given_msg:\n",
    "        print('Label: Ham')\n",
    "    elif p_ham_given_msg < p_spam_given_msg:\n",
    "        print('Label: Spam')\n",
    "    else:\n",
    "        print('Equal probabiliies, have a human classify this!')"
   ]
  },
  {
   "cell_type": "code",
   "execution_count": 47,
   "metadata": {},
   "outputs": [
    {
     "output_type": "stream",
     "name": "stdout",
     "text": [
      "P(Spam|msg) =  1.3481290211300841e-25\nP(Ham|msg) =  1.9368049028589875e-27\nLabel: Spam\n------------------------------------------------------\nP(Spam|msg) =  2.4372375665888117e-25\nP(Ham|msg) =  3.687530435009238e-21\nLabel: Ham\n"
     ]
    }
   ],
   "source": [
    "# Testing function defined above\n",
    "m1 = 'WINNER!! This is the secret code to unlock the money: C3421.'\n",
    "classify(m1)\n",
    "print('------------------------------------------------------')\n",
    "m2 = \"Sounds good, Tom, then see u there\"\n",
    "classify(m2)"
   ]
  },
  {
   "source": [
    "# Measuring Spam Filter's Accuracy"
   ],
   "cell_type": "markdown",
   "metadata": {}
  },
  {
   "source": [
    "Now we can compare the predicted values with the actual values to measure how good our spam filter is with classifying new messages. To make the measurement, we'll use accuracy as a metric:\n",
    "-------------------------------------------------------------------------------------------\n",
    "FORMULA:\n",
    "\n",
    "\n",
    "Accuracy = (number of correctly classified messages) / (total number of classified messages)"
   ],
   "cell_type": "markdown",
   "metadata": {}
  },
  {
   "cell_type": "code",
   "execution_count": 48,
   "metadata": {},
   "outputs": [],
   "source": [
    "total = test.shape[0]"
   ]
  },
  {
   "cell_type": "code",
   "execution_count": 49,
   "metadata": {},
   "outputs": [],
   "source": [
    "# Updating classify function for test-data\n",
    "import re\n",
    "def classify_test(message):\n",
    "    message = re.sub('\\W',' ',message)\n",
    "    message = message.lower()\n",
    "    message = message.split()\n",
    "\n",
    "    '''\n",
    "    Computing p_spam_given_msg & p_ham_given_msg both below\n",
    "    '''\n",
    "    p_spam_given_msg = p_spam\n",
    "    p_ham_given_msg = p_ham \n",
    "\n",
    "    for w in message:\n",
    "        if w in spam_parameters:\n",
    "            p_spam_given_msg *= spam_parameters[w]\n",
    "        if w in ham_parameters:\n",
    "            p_ham_given_msg *= ham_parameters[w]\n",
    "        #else:\n",
    "        #    continue\n",
    "    \n",
    "    if p_ham_given_msg > p_spam_given_msg:\n",
    "        return 'ham'\n",
    "    elif p_ham_given_msg < p_spam_given_msg:\n",
    "        return 'spam'\n",
    "    else:\n",
    "        return 'needs human classification'"
   ]
  },
  {
   "cell_type": "code",
   "execution_count": 50,
   "metadata": {
    "tags": []
   },
   "outputs": [
    {
     "output_type": "execute_result",
     "data": {
      "text/plain": [
       "  Label                                                SMS predicted\n",
       "0   ham          Later i guess. I needa do mcat study too.       ham\n",
       "1   ham             But i haf enuff space got like 4 mb...       ham\n",
       "2  spam  Had your mobile 10 mths? Update to latest Oran...      spam\n",
       "3   ham  All sounds good. Fingers . Makes it difficult ...       ham\n",
       "4   ham  All done, all handed in. Don't know if mega sh...       ham"
      ],
      "text/html": "<div>\n<style scoped>\n    .dataframe tbody tr th:only-of-type {\n        vertical-align: middle;\n    }\n\n    .dataframe tbody tr th {\n        vertical-align: top;\n    }\n\n    .dataframe thead th {\n        text-align: right;\n    }\n</style>\n<table border=\"1\" class=\"dataframe\">\n  <thead>\n    <tr style=\"text-align: right;\">\n      <th></th>\n      <th>Label</th>\n      <th>SMS</th>\n      <th>predicted</th>\n    </tr>\n  </thead>\n  <tbody>\n    <tr>\n      <th>0</th>\n      <td>ham</td>\n      <td>Later i guess. I needa do mcat study too.</td>\n      <td>ham</td>\n    </tr>\n    <tr>\n      <th>1</th>\n      <td>ham</td>\n      <td>But i haf enuff space got like 4 mb...</td>\n      <td>ham</td>\n    </tr>\n    <tr>\n      <th>2</th>\n      <td>spam</td>\n      <td>Had your mobile 10 mths? Update to latest Oran...</td>\n      <td>spam</td>\n    </tr>\n    <tr>\n      <th>3</th>\n      <td>ham</td>\n      <td>All sounds good. Fingers . Makes it difficult ...</td>\n      <td>ham</td>\n    </tr>\n    <tr>\n      <th>4</th>\n      <td>ham</td>\n      <td>All done, all handed in. Don't know if mega sh...</td>\n      <td>ham</td>\n    </tr>\n  </tbody>\n</table>\n</div>"
     },
     "metadata": {},
     "execution_count": 50
    }
   ],
   "source": [
    "'''\n",
    "we have a function that returns labels instead of printing them, we can use it to create a new column in our test set\n",
    "'''\n",
    "test['predicted'] = test['SMS'].apply(classify_test)\n",
    "test.head()"
   ]
  },
  {
   "cell_type": "code",
   "execution_count": 51,
   "metadata": {
    "tags": []
   },
   "outputs": [
    {
     "output_type": "stream",
     "name": "stdout",
     "text": [
      "Correct =  1100\n1114\nIncorrect =  14\nAccuracy =  98.74326750448833\n"
     ]
    }
   ],
   "source": [
    "correct = 0\n",
    "for row in test.iterrows():\n",
    "    row = row[1] # to avoid error of tuple as if this is not done row is in tuple format\n",
    "    if row['Label'] == row['predicted']:\n",
    "        correct += 1\n",
    "\n",
    "print('Correct = ',correct)\n",
    "print(total)\n",
    "print('Incorrect = ',total-correct)\n",
    "print('Accuracy = ',(correct/total)*100)"
   ]
  },
  {
   "source": [
    "The filter had an accuracy of 98.74% on the test set, which is an excellent result. We initially aimed for an accuracy of over 80%, but we managed to do way better than that."
   ],
   "cell_type": "markdown",
   "metadata": {}
  },
  {
   "cell_type": "code",
   "execution_count": null,
   "metadata": {},
   "outputs": [],
   "source": []
  },
  {
   "cell_type": "code",
   "execution_count": 1,
   "metadata": {},
   "outputs": [
    {
     "output_type": "stream",
     "name": "stdout",
     "text": [
      "h\n"
     ]
    }
   ],
   "source": []
  },
  {
   "cell_type": "code",
   "execution_count": null,
   "metadata": {},
   "outputs": [],
   "source": []
  }
 ]
}